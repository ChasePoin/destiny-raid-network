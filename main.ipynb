{
 "cells": [
  {
   "cell_type": "code",
   "execution_count": null,
   "metadata": {
    "vscode": {
     "languageId": "plaintext"
    }
   },
   "outputs": [],
   "source": [
    "import grabbers\n",
    "import asyncio\n",
    "import networkx as nx\n",
    "import matplotlib.pyplot as plt"
   ]
  },
  {
   "cell_type": "code",
   "execution_count": null,
   "metadata": {
    "vscode": {
     "languageId": "plaintext"
    }
   },
   "outputs": [],
   "source": [
    "async def main():\n",
    "    # ask for username then create an object of the player\n",
    "    name = input(\"Enter the username of the player you want to add. Example: Khazicus#9648: \")\n",
    "    player = grabbers.RootPlayer(name)\n",
    "    await player.setup()\n",
    "    root_user_sorted = dict(sorted(player.players_raided_with.items(), key=lambda x: x[1][1], reverse=True))\n",
    "\n",
    "    # for element in root_user_sorted:\n",
    "    #     print(root_user_sorted[element][0] + \" : \" + str(root_user_sorted[element][1]))\n",
    "    print(player.player_network_dict)\n",
    "    g = nx.Graph(player.player_network_dict)\n",
    "    nx.draw(g,with_labels=True)\n",
    "    \n",
    "    # contains users connected to me and users connected to them\n",
    "    full_user_dict = dict()\n",
    "    full_user_dict[name] = root_user_sorted\n",
    "\n",
    "    for other_player in root_user_sorted:\n",
    "        try:\n",
    "            print(root_user_sorted[other_player][0])\n",
    "            player_obj = grabbers.AdjacentPlayer(root_user_sorted[other_player][0], other_player, root_user_sorted[other_player][2])\n",
    "            await player_obj.setup()\n",
    "            new_sort = dict(sorted(player_obj.players_raided_with.items(), key=lambda x: x[1][1], reverse=True))\n",
    "            full_user_dict[player_obj.bungie_name] = new_sort\n",
    "            print(player_obj.player_network_dict)\n",
    "        except:\n",
    "            print(f\"failed to get data for {root_user_sorted[other_player][0]}\")\n",
    "    \n",
    "    # print(full_user_dict)\n",
    "\n",
    "    network_dict=dict()\n",
    "    inner_dict=dict()\n",
    "    # network_dict = {'khazicus': {'hypwr': {132}, 'lunar': {133}}}\n",
    "    # for main_user in full_user_dict:\n",
    "    #     for connected_user in "
   ]
  },
  {
   "cell_type": "code",
   "execution_count": null,
   "metadata": {
    "vscode": {
     "languageId": "plaintext"
    }
   },
   "outputs": [],
   "source": [
    "if __name__ == \"__main__\":\n",
    "    asyncio.run(main())"
   ]
  }
 ],
 "metadata": {
  "language_info": {
   "name": "python"
  }
 },
 "nbformat": 4,
 "nbformat_minor": 2
}
